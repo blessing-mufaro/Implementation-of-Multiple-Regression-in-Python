{
  "nbformat": 4,
  "nbformat_minor": 0,
  "metadata": {
    "colab": {
      "name": "Multiple Regression Implementation.ipynb",
      "provenance": [],
      "toc_visible": true,
      "authorship_tag": "ABX9TyOPSM5ztPPgBbN5odYuuf+K",
      "include_colab_link": true
    },
    "kernelspec": {
      "name": "python3",
      "display_name": "Python 3"
    },
    "language_info": {
      "name": "python"
    }
  },
  "cells": [
    {
      "cell_type": "markdown",
      "metadata": {
        "id": "view-in-github",
        "colab_type": "text"
      },
      "source": [
        "<a href=\"https://colab.research.google.com/github/blessing-mufaro/Implementation-of-Multiple-Regression-in-Python/blob/main/Multiple_Regression_Implementation.ipynb\" target=\"_parent\"><img src=\"https://colab.research.google.com/assets/colab-badge.svg\" alt=\"Open In Colab\"/></a>"
      ]
    },
    {
      "cell_type": "markdown",
      "metadata": {
        "id": "3tCGOH-jvxcZ"
      },
      "source": [
        "# Import Library"
      ]
    },
    {
      "cell_type": "code",
      "metadata": {
        "id": "xETY8KlItSwX"
      },
      "source": [
        "\n",
        "import numpy as np\n",
        "import pandas as pd\n",
        "import matplotlib.pyplot as plt\n",
        "from mpl_toolkits.mplot3d import Axes3D"
      ],
      "execution_count": null,
      "outputs": []
    },
    {
      "cell_type": "markdown",
      "metadata": {
        "id": "KevDhH90wCUx"
      },
      "source": [
        "# Import Dataset"
      ]
    },
    {
      "cell_type": "code",
      "metadata": {
        "id": "s8eH9JFMvZJJ"
      },
      "source": [
        "data = pd.read_csv('/content/startups.csv')\n",
        "data.head()"
      ],
      "execution_count": null,
      "outputs": []
    },
    {
      "cell_type": "markdown",
      "metadata": {
        "id": "wX27FiJ1kBdy"
      },
      "source": [
        "# Data preprocessing"
      ]
    },
    {
      "cell_type": "code",
      "metadata": {
        "id": "U7TU3-c3iYhU"
      },
      "source": [
        "X = data['R&D Spend']\n",
        "Y = data['Administration']\n",
        "Z = data['Profit']"
      ],
      "execution_count": null,
      "outputs": []
    },
    {
      "cell_type": "markdown",
      "metadata": {
        "id": "tuzIqVChjs8O"
      },
      "source": [
        "# 3-D Graph Analysis"
      ]
    },
    {
      "cell_type": "code",
      "metadata": {
        "id": "oknKI9RU0r0I"
      },
      "source": [
        "fig = plt.figure()\n",
        "ax = fig.add_subplot(111, projection='3d')\n",
        "ax.scatter(X,Y,Z, c='r' , marker='o')\n",
        "\n",
        "ax.set_xlabel('R&D Spend')\n",
        "ax.set_ylabel('Administration')\n",
        "ax.set_zlabel('Profit')\n",
        "\n",
        "plt.show()"
      ],
      "execution_count": null,
      "outputs": []
    },
    {
      "cell_type": "markdown",
      "metadata": {
        "id": "huN7T2MxwCx8"
      },
      "source": [
        "# Split the data"
      ]
    },
    {
      "cell_type": "code",
      "metadata": {
        "id": "vKq0tSTexbDQ"
      },
      "source": [
        " from sklearn.model_selection import train_test_split\n",
        "X_train, X_test, Y_train, Y_test = train_test_split(X,Y, test_size=0.3)\n",
        "print(X_train.shape, X_test.shape)"
      ],
      "execution_count": null,
      "outputs": []
    },
    {
      "cell_type": "markdown",
      "metadata": {
        "id": "p3ecg51WwDJG"
      },
      "source": [
        "# Fitting Multiple Linear Regression"
      ]
    },
    {
      "cell_type": "code",
      "metadata": {
        "id": "vIN1LtQSl3c7"
      },
      "source": [
        "lst = ['R&D Spend', 'Administration']\n",
        "ind_var = data[lst]\n",
        "dep_var = data['Profit']"
      ],
      "execution_count": null,
      "outputs": []
    },
    {
      "cell_type": "code",
      "metadata": {
        "id": "VmsyI5RExcUu",
        "colab": {
          "base_uri": "https://localhost:8080/"
        },
        "outputId": "a7ad23a6-888f-4c06-b018-c58b9555000c"
      },
      "source": [
        " from sklearn.linear_model import LinearRegression\n",
        "model = LinearRegression()\n",
        "model.fit(ind_var, dep_var)"
      ],
      "execution_count": null,
      "outputs": [
        {
          "output_type": "execute_result",
          "data": {
            "text/plain": [
              "LinearRegression(copy_X=True, fit_intercept=True, n_jobs=None, normalize=False)"
            ]
          },
          "metadata": {
            "tags": []
          },
          "execution_count": 9
        }
      ]
    },
    {
      "cell_type": "markdown",
      "metadata": {
        "id": "-y0-JArpwDbD"
      },
      "source": [
        "# Predicting the test results"
      ]
    },
    {
      "cell_type": "code",
      "metadata": {
        "id": "BEKqZkMRxdFR",
        "colab": {
          "base_uri": "https://localhost:8080/",
          "height": 206
        },
        "outputId": "acbb8131-03d4-487d-8646-6468d4a9f2cb"
      },
      "source": [
        "data['Predicted_Profit'] = model.predict(ind_var)\n",
        "data.head()"
      ],
      "execution_count": null,
      "outputs": [
        {
          "output_type": "execute_result",
          "data": {
            "text/html": [
              "<div>\n",
              "<style scoped>\n",
              "    .dataframe tbody tr th:only-of-type {\n",
              "        vertical-align: middle;\n",
              "    }\n",
              "\n",
              "    .dataframe tbody tr th {\n",
              "        vertical-align: top;\n",
              "    }\n",
              "\n",
              "    .dataframe thead th {\n",
              "        text-align: right;\n",
              "    }\n",
              "</style>\n",
              "<table border=\"1\" class=\"dataframe\">\n",
              "  <thead>\n",
              "    <tr style=\"text-align: right;\">\n",
              "      <th></th>\n",
              "      <th>R&amp;D Spend</th>\n",
              "      <th>Administration</th>\n",
              "      <th>Marketing Spend</th>\n",
              "      <th>State</th>\n",
              "      <th>Profit</th>\n",
              "      <th>Predicted_Profit</th>\n",
              "    </tr>\n",
              "  </thead>\n",
              "  <tbody>\n",
              "    <tr>\n",
              "      <th>0</th>\n",
              "      <td>165349.20</td>\n",
              "      <td>136897.80</td>\n",
              "      <td>471784.10</td>\n",
              "      <td>New York</td>\n",
              "      <td>192261.83</td>\n",
              "      <td>190182.180514</td>\n",
              "    </tr>\n",
              "    <tr>\n",
              "      <th>1</th>\n",
              "      <td>162597.70</td>\n",
              "      <td>151377.59</td>\n",
              "      <td>443898.53</td>\n",
              "      <td>California</td>\n",
              "      <td>191792.06</td>\n",
              "      <td>187042.700174</td>\n",
              "    </tr>\n",
              "    <tr>\n",
              "      <th>2</th>\n",
              "      <td>153441.51</td>\n",
              "      <td>101145.55</td>\n",
              "      <td>407934.54</td>\n",
              "      <td>Florida</td>\n",
              "      <td>191050.39</td>\n",
              "      <td>181811.052822</td>\n",
              "    </tr>\n",
              "    <tr>\n",
              "      <th>3</th>\n",
              "      <td>144372.41</td>\n",
              "      <td>118671.85</td>\n",
              "      <td>383199.62</td>\n",
              "      <td>New York</td>\n",
              "      <td>182901.99</td>\n",
              "      <td>173063.604832</td>\n",
              "    </tr>\n",
              "    <tr>\n",
              "      <th>4</th>\n",
              "      <td>142107.34</td>\n",
              "      <td>91391.77</td>\n",
              "      <td>366168.42</td>\n",
              "      <td>Florida</td>\n",
              "      <td>166187.94</td>\n",
              "      <td>172556.566886</td>\n",
              "    </tr>\n",
              "  </tbody>\n",
              "</table>\n",
              "</div>"
            ],
            "text/plain": [
              "   R&D Spend  Administration  ...     Profit Predicted_Profit\n",
              "0  165349.20       136897.80  ...  192261.83    190182.180514\n",
              "1  162597.70       151377.59  ...  191792.06    187042.700174\n",
              "2  153441.51       101145.55  ...  191050.39    181811.052822\n",
              "3  144372.41       118671.85  ...  182901.99    173063.604832\n",
              "4  142107.34        91391.77  ...  166187.94    172556.566886\n",
              "\n",
              "[5 rows x 6 columns]"
            ]
          },
          "metadata": {
            "tags": []
          },
          "execution_count": 12
        }
      ]
    },
    {
      "cell_type": "markdown",
      "metadata": {
        "id": "sx6ivrddwDtQ"
      },
      "source": [
        "# Calculate Accuracy"
      ]
    },
    {
      "cell_type": "code",
      "metadata": {
        "id": "sfYHShskxeSI"
      },
      "source": [
        "from sklearn.metrics import r2_score\n",
        "accuracy = r2_score(dep_var,model.predict(ind_var))\n",
        "print(\"The model accuracy is \", accuracy*100, \"%\")"
      ],
      "execution_count": null,
      "outputs": []
    },
    {
      "cell_type": "code",
      "metadata": {
        "id": "g7dI2LNDxg3V"
      },
      "source": [
        "test_data = np.array([[3300]])\n",
        "test_pred = model.predict(test_data)\n",
        "print(test_pred)"
      ],
      "execution_count": null,
      "outputs": []
    },
    {
      "cell_type": "markdown",
      "metadata": {
        "id": "SEuLEOdWwyfB"
      },
      "source": [
        "#Predict data from user through manual input"
      ]
    },
    {
      "cell_type": "code",
      "metadata": {
        "id": "7P714eG-xijZ"
      },
      "source": [
        "rnds = float(input('Please input R&D Spend Charge: '))\n",
        "Administration = float(input('Please input Administration Charge: '))\n",
        "predlst = [[rnds , Administration]]\n",
        "ans = model.predict(predlst)\n",
        "print('Predicted Profit: ' + str(ans))\n",
        "\n"
      ],
      "execution_count": null,
      "outputs": []
    }
  ]
}